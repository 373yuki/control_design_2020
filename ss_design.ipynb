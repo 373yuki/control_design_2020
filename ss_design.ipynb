{
 "cells": [
  {
   "cell_type": "code",
   "execution_count": 1,
   "metadata": {},
   "outputs": [],
   "source": [
    "from control.matlab import *\n",
    "import matplotlib.pyplot as plt\n",
    "import numpy as np\n",
    "\n",
    "plt.rcParams['font.family'] ='sans-serif' #使用するフォント\n",
    "plt.rcParams['xtick.direction'] = 'in' #x軸の目盛線が内向き('in')か外向き('out')か双方向か('inout')\n",
    "plt.rcParams['ytick.direction'] = 'in' #y軸の目盛線が内向き('in')か外向き('out')か双方向か('inout')\n",
    "plt.rcParams['xtick.major.width'] = 1.0 #x軸主目盛り線の線幅\n",
    "plt.rcParams['ytick.major.width'] = 1.0 #y軸主目盛り線の線幅\n",
    "plt.rcParams['font.size'] = 13 #フォントの大きさ\n",
    "plt.rcParams['axes.linewidth'] = 1.0 # 軸の線幅edge linewidth。囲みの太さ\n",
    "plt.rcParams['mathtext.default'] = 'regular'\n",
    "plt.rcParams['axes.xmargin'] = '0' #'.05'\n",
    "plt.rcParams['axes.ymargin'] = '0.05'\n",
    "plt.rcParams['savefig.facecolor'] = 'None'\n",
    "plt.rcParams['savefig.edgecolor'] = 'None'"
   ]
  },
  {
   "cell_type": "code",
   "execution_count": 2,
   "metadata": {},
   "outputs": [],
   "source": [
    "def linestyle_generator():\n",
    "    linestyle = ['-', '--', '-.', ':']\n",
    "    lineID = 0\n",
    "    while True:\n",
    "        yield linestyle[lineID]\n",
    "        lineID = (lineID + 1) % len(linestyle)"
   ]
  },
  {
   "cell_type": "code",
   "execution_count": 3,
   "metadata": {},
   "outputs": [],
   "source": [
    "def plot_set(fig_ax, *args):\n",
    "    fig_ax.set_xlabel(args[0])\n",
    "    fig_ax.set_ylabel(args[1])\n",
    "    fig_ax.grid(ls=':')\n",
    "    if len(args)==3:\n",
    "        fig_ax.legend(loc=args[2])"
   ]
  },
  {
   "cell_type": "code",
   "execution_count": 4,
   "metadata": {},
   "outputs": [],
   "source": [
    "def bodeplot_set(fig_ax, *args):\n",
    "    fig_ax[0].grid(which=\"both\", ls=':')\n",
    "    fig_ax[0].set_ylabel('Gain [dB]')\n",
    "\n",
    "    fig_ax[1].grid(which=\"both\", ls=':')\n",
    "    fig_ax[1].set_xlabel('$\\omega$ [rad/s]')\n",
    "    fig_ax[1].set_ylabel('Phase [deg]')\n",
    "    \n",
    "    if len(args) > 0:\n",
    "        fig_ax[1].legend(loc=args[0])\n",
    "    if len(args) > 1:\n",
    "        fig_ax[0].legend(loc=args[1])"
   ]
  },
  {
   "cell_type": "markdown",
   "metadata": {},
   "source": [
    "## 状態空間モデルを用いた制御系設計"
   ]
  },
  {
   "cell_type": "markdown",
   "metadata": {},
   "source": [
    "<img src=\"ss_probpng.png\" width=\"600px\">"
   ]
  },
  {
   "cell_type": "markdown",
   "metadata": {},
   "source": [
    "### 状態空間モデル"
   ]
  },
  {
   "cell_type": "code",
   "execution_count": 69,
   "metadata": {},
   "outputs": [
    {
     "name": "stdout",
     "output_type": "stream",
     "text": [
      "A = [[ 0.  1.]\n",
      " [-4.  5.]]\n",
      "\n",
      "B = [[0.]\n",
      " [1.]]\n",
      "\n",
      "C = [[1. 0.]\n",
      " [0. 1.]]\n",
      "\n",
      "D = [[0.]\n",
      " [0.]]\n",
      "\n"
     ]
    }
   ],
   "source": [
    "A = [[0, 1], [-4, 5]]\n",
    "B = [[0], [1]]\n",
    "C = [[1, 0], [0, 1]]\n",
    "D = [[0], [0]]\n",
    "P = ss(A, B, C, D)\n",
    "print(P)"
   ]
  },
  {
   "cell_type": "markdown",
   "metadata": {},
   "source": [
    "安定性のチェック"
   ]
  },
  {
   "cell_type": "code",
   "execution_count": 70,
   "metadata": {},
   "outputs": [
    {
     "data": {
      "text/plain": [
       "array([1., 4.])"
      ]
     },
     "execution_count": 70,
     "metadata": {},
     "output_type": "execute_result"
    }
   ],
   "source": [
    "np.linalg.eigvals(P.A)"
   ]
  },
  {
   "cell_type": "markdown",
   "metadata": {},
   "source": [
    "可制御性のチェック"
   ]
  },
  {
   "cell_type": "code",
   "execution_count": 71,
   "metadata": {},
   "outputs": [
    {
     "name": "stdout",
     "output_type": "stream",
     "text": [
      "Vc= [[0. 1.]\n",
      " [1. 5.]]\n"
     ]
    },
    {
     "data": {
      "text/plain": [
       "-1.0"
      ]
     },
     "execution_count": 71,
     "metadata": {},
     "output_type": "execute_result"
    }
   ],
   "source": [
    "Vc = ctrb(P.A, P.B)\n",
    "print('Vc=', Vc)\n",
    "\n",
    "np.linalg.det(Vc)"
   ]
  },
  {
   "cell_type": "markdown",
   "metadata": {},
   "source": [
    "### 極配置による設計    "
   ]
  },
  {
   "cell_type": "code",
   "execution_count": 77,
   "metadata": {},
   "outputs": [
    {
     "data": {
      "text/plain": [
       "matrix([[-30., -15.]])"
      ]
     },
     "execution_count": 77,
     "metadata": {},
     "output_type": "execute_result"
    }
   ],
   "source": [
    "Pole = [-5+3j, -5-3j]\n",
    "K = -acker(P.A, P.B, Pole)\n",
    "K"
   ]
  },
  {
   "cell_type": "markdown",
   "metadata": {},
   "source": [
    "閉ループ系の極"
   ]
  },
  {
   "cell_type": "code",
   "execution_count": 78,
   "metadata": {},
   "outputs": [
    {
     "data": {
      "text/plain": [
       "array([-5.+3.j, -5.-3.j])"
      ]
     },
     "execution_count": 78,
     "metadata": {},
     "output_type": "execute_result"
    }
   ],
   "source": [
    "Acl = P.A + P.B*K\n",
    "np.linalg.eigvals(Acl)"
   ]
  },
  {
   "cell_type": "code",
   "execution_count": 79,
   "metadata": {},
   "outputs": [
    {
     "data": {
      "image/png": "[encoded data removed]",
      "text/plain": [
       "<Figure size 216x165.6 with 1 Axes>"
      ]
     },
     "metadata": {
      "needs_background": "light"
     },
     "output_type": "display_data"
    }
   ],
   "source": [
    "Pfb = ss(Acl, P.B, P.C, P.D)\n",
    "\n",
    "Td = np.arange(0, 5, 0.01)\n",
    "X0 = [-0.3, 0.4]\n",
    "x, t = initial(Pfb, Td, X0) #ゼロ入力応答\n",
    "\n",
    "fig, ax = plt.subplots(figsize=(3, 2.3))\n",
    "ax.plot(t, x[:,0], label = '$x_1$')\n",
    "ax.plot(t, x[:,1], ls = '-.', label = '$x_2$')\n",
    "\n",
    "plot_set(ax, 't', 'x', 'best')"
   ]
  },
  {
   "cell_type": "markdown",
   "metadata": {},
   "source": [
    "### 最適レギュレータ"
   ]
  },
  {
   "cell_type": "code",
   "execution_count": 92,
   "metadata": {},
   "outputs": [
    {
     "name": "stdout",
     "output_type": "stream",
     "text": [
      "--- フィードバックゲイン ---\n",
      "[[ -6.77032961 -11.28813639]]\n",
      "[[ -6.77032961 -11.28813639]]\n",
      "--- 閉ループ極 ---\n",
      "[-3.1440682+0.94083196j -3.1440682-0.94083196j]\n",
      "[-3.14406819+0.94083198j -3.14406819-0.94083198j]\n"
     ]
    }
   ],
   "source": [
    "Q = [ [100, 0], [0, 1]]\n",
    "R = 1\n",
    "\n",
    "K, X, E = lqr(P.A, P.B, Q, R)\n",
    "K = -K\n",
    "\n",
    "print('--- フィードバックゲイン ---')\n",
    "print(K)\n",
    "print(-(1/R)*P.B.T*X)\n",
    "print('--- 閉ループ極 ---')\n",
    "print(E)\n",
    "print(np.linalg.eigvals(P.A+P.B*K))"
   ]
  },
  {
   "cell_type": "markdown",
   "metadata": {},
   "source": [
    "ハミルトン行列"
   ]
  },
  {
   "cell_type": "code",
   "execution_count": 82,
   "metadata": {},
   "outputs": [
    {
     "name": "stdout",
     "output_type": "stream",
     "text": [
      "[-3.14406819+0.94083198j -3.14406819-0.94083198j  3.14406819+0.94083198j\n",
      "  3.14406819-0.94083198j]\n",
      "--- ハミルトン行列の安定固有値 ---\n",
      "[(-3.144068193779283+0.9408319760374358j), (-3.144068193779283-0.9408319760374358j)]\n",
      "--- フィードバックゲイン ---\n",
      "[[ -6.77032961 -11.28813639]]\n"
     ]
    }
   ],
   "source": [
    "H1 = np.c_[P.A, -P.B*(1/R)*P.B.T]\n",
    "H2 = np.c_[ Q, P.A.T]\n",
    "H = np.r_[H1, -H2]\n",
    "eigH = np.linalg.eigvals(H)\n",
    "print(eigH)\n",
    "\n",
    "print('--- ハミルトン行列の安定固有値 ---')\n",
    "eigH_stable = [ i for i in eigH if i < 0]\n",
    "print(eigH_stable)\n",
    "\n",
    "K = -acker(P.A, P.B, eigH_stable)\n",
    "print('--- フィードバックゲイン ---')\n",
    "print(K)"
   ]
  },
  {
   "cell_type": "code",
   "execution_count": 93,
   "metadata": {},
   "outputs": [
    {
     "data": {
      "text/plain": [
       "<matplotlib.legend.Legend at 0x7fd6821c7f10>"
      ]
     },
     "execution_count": 93,
     "metadata": {},
     "output_type": "execute_result"
    },
    {
     "data": {
      "image/png": "[encoded data removed]",
      "text/plain": [
       "<Figure size 216x165.6 with 1 Axes>"
      ]
     },
     "metadata": {
      "needs_background": "light"
     },
     "output_type": "display_data"
    }
   ],
   "source": [
    "Acl = P.A + P.B*K\n",
    "Pfb = ss(Acl, P.B, P.C, P.D)\n",
    "\n",
    "tdata = np.arange(0, 5, 0.01)\n",
    "xini, tini = initial(Pfb, tdata, [-0.3, 0.4]) #ゼロ入力応答\n",
    "\n",
    "fig, ax = plt.subplots(figsize=(3, 2.3))\n",
    "\n",
    "ax.plot(tini, xini[:,0], label = '$x_1$')\n",
    "ax.plot(tini, xini[:,1], ls = '-.', label = '$x_2$')\n",
    "\n",
    "ax.set_xlabel('t')\n",
    "ax.set_ylabel('x')\n",
    "ax.grid(ls=':')\n",
    "ax.legend()"
   ]
  },
  {
   "cell_type": "markdown",
   "metadata": {},
   "source": [
    "円条件（最適レギュレータのロバスト性）"
   ]
  },
  {
   "cell_type": "code",
   "execution_count": 94,
   "metadata": {},
   "outputs": [],
   "source": [
    "L = ss(P.A, P.B, -K, 0) # 開ループ系"
   ]
  },
  {
   "cell_type": "code",
   "execution_count": 95,
   "metadata": {},
   "outputs": [
    {
     "data": {
      "text/plain": [
       "(0.44294291177336015,\n",
       " 60.491329194745106,\n",
       " 2.645537660478436,\n",
       " 10.521006470656348)"
      ]
     },
     "execution_count": 95,
     "metadata": {},
     "output_type": "execute_result"
    }
   ],
   "source": [
    "margin(L)"
   ]
  },
  {
   "cell_type": "markdown",
   "metadata": {},
   "source": [
    "位相余裕が 60.49[deg] となっている"
   ]
  },
  {
   "cell_type": "code",
   "execution_count": 96,
   "metadata": {},
   "outputs": [
    {
     "data": {
      "image/png": "[encoded data removed]",
      "text/plain": [
       "<Figure size 216x216 with 1 Axes>"
      ]
     },
     "metadata": {
      "needs_background": "light"
     },
     "output_type": "display_data"
    }
   ],
   "source": [
    "import matplotlib.patches as patches\n",
    "\n",
    "fig, ax = plt.subplots(figsize=(3, 3))\n",
    "x, y, w = nyquist(L, logspace(-2,3,1000), Plot=False)\n",
    "ax.plot(x, y)\n",
    "# ax.plot(x, -y, ls='--')\n",
    "ax.scatter(-1, 0, color='k')\n",
    "\n",
    "ax.grid(ls=':')\n",
    "ax.set_xlim(-2.5, 2.5)\n",
    "ax.set_ylim(-2.5, 2.5)\n",
    "\n",
    "c = patches.Circle(xy=(-1, 0), radius=1, fill=False, ec='k')\n",
    "ax.add_patch(c)\n",
    "\n",
    "fig.tight_layout()"
   ]
  },
  {
   "cell_type": "markdown",
   "metadata": {},
   "source": [
    "開ループ系のナイキスト軌跡が (-1, 0j) を中心とする単位円の中に入らない．\n",
    "\n",
    "これにより，位相余裕が 60 [deg] 以上であることが保証される"
   ]
  },
  {
   "cell_type": "markdown",
   "metadata": {},
   "source": [
    "## 積分型サーボ系"
   ]
  },
  {
   "cell_type": "code",
   "execution_count": 97,
   "metadata": {},
   "outputs": [
    {
     "name": "stdout",
     "output_type": "stream",
     "text": [
      "A = [[ 0.  1.]\n",
      " [-4.  5.]]\n",
      "\n",
      "B = [[0.]\n",
      " [1.]]\n",
      "\n",
      "C = [[1. 0.]]\n",
      "\n",
      "D = [[0.]]\n",
      "\n"
     ]
    }
   ],
   "source": [
    "A = '0 1; -4 5'\n",
    "B = '0; 1'\n",
    "C = '1 0'\n",
    "D = '0'\n",
    "P = ss(A, B, C, D)\n",
    "print(P)"
   ]
  },
  {
   "cell_type": "code",
   "execution_count": 98,
   "metadata": {},
   "outputs": [],
   "source": [
    "Abar = np.r_[ np.c_[P.A, np.zeros((2,1))], -np.c_[ P.C, 0 ] ]\n",
    "Bbar = np.c_[ P.B.T, 0 ].T\n",
    "Cbar = np.c_[ P.C, 0 ]"
   ]
  },
  {
   "cell_type": "code",
   "execution_count": 99,
   "metadata": {},
   "outputs": [
    {
     "data": {
      "text/plain": [
       "matrix([[ -7., -12.,   5.]])"
      ]
     },
     "execution_count": 99,
     "metadata": {},
     "output_type": "execute_result"
    }
   ],
   "source": [
    "Pole = [-1, -1, -5]\n",
    "F = -acker(Abar, Bbar, Pole)\n",
    "F"
   ]
  },
  {
   "cell_type": "code",
   "execution_count": 100,
   "metadata": {},
   "outputs": [
    {
     "data": {
      "image/png": "[encoded data removed]",
      "text/plain": [
       "<Figure size 216x165.6 with 1 Axes>"
      ]
     },
     "metadata": {
      "needs_background": "light"
     },
     "output_type": "display_data"
    }
   ],
   "source": [
    "Acl = Abar + Bbar*F\n",
    "Pfb = ss(Acl, Bbar, np.eye(3), np.zeros((3,1)))\n",
    "\n",
    "Td = np.arange(0, 8, 0.01)\n",
    "Ud = 0.2 * (Td>0)\n",
    "x, t, _ = lsim(Pfb, Ud, Td, [-0.3, 0.4, 0])\n",
    " \n",
    "fig, ax = plt.subplots(figsize=(3, 2.3))\n",
    "ax.plot(t, x[:,0], label = '$x_1$')\n",
    "ax.plot(t, x[:,1], ls = '-.',label = '$x_2$')\n",
    "# ax.plot(t, Ud, c='k')\n",
    "plot_set(ax, 't', 'x', 'best')"
   ]
  }
 ],
 "metadata": {
  "kernelspec": {
   "display_name": "Python 3",
   "language": "python",
   "name": "python3"
  },
  "language_info": {
   "codemirror_mode": {
    "name": "ipython",
    "version": 3
   },
   "file_extension": ".py",
   "mimetype": "text/x-python",
   "name": "python",
   "nbconvert_exporter": "python",
   "pygments_lexer": "ipython3",
   "version": "3.8.5"
  }
 },
 "nbformat": 4,
 "nbformat_minor": 4
}
